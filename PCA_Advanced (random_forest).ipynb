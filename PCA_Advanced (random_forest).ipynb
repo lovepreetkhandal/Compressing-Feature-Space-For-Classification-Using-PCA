{
 "cells": [
  {
   "cell_type": "markdown",
   "metadata": {},
   "source": [
    "# PRINCIPAL COMPONENT ANALYSIS"
   ]
  },
  {
   "cell_type": "markdown",
   "metadata": {},
   "source": [
    "# importing required packages\n"
   ]
  },
  {
   "cell_type": "code",
   "execution_count": 1,
   "metadata": {},
   "outputs": [],
   "source": [
    "import pandas as pd\n",
    "import numpy as np\n",
    "from sklearn.ensemble import RandomForestClassifier\n",
    "import matplotlib.pyplot as plt\n",
    "from sklearn.decomposition import PCA\n",
    "from sklearn.utils import shuffle\n",
    "from sklearn.model_selection import train_test_split, cross_val_score, KFold\n",
    "from sklearn.metrics import accuracy_score, confusion_matrix, precision_score, recall_score, f1_score\n",
    "from sklearn.preprocessing import StandardScaler\n",
    "import pickle"
   ]
  },
  {
   "cell_type": "markdown",
   "metadata": {},
   "source": [
    "# Data prep and cleaning"
   ]
  },
  {
   "cell_type": "code",
   "execution_count": 2,
   "metadata": {},
   "outputs": [
    {
     "data": {
      "text/html": [
       "<div>\n",
       "<style scoped>\n",
       "    .dataframe tbody tr th:only-of-type {\n",
       "        vertical-align: middle;\n",
       "    }\n",
       "\n",
       "    .dataframe tbody tr th {\n",
       "        vertical-align: top;\n",
       "    }\n",
       "\n",
       "    .dataframe thead th {\n",
       "        text-align: right;\n",
       "    }\n",
       "</style>\n",
       "<table border=\"1\" class=\"dataframe\">\n",
       "  <thead>\n",
       "    <tr style=\"text-align: right;\">\n",
       "      <th></th>\n",
       "      <th>user_id</th>\n",
       "      <th>purchased_album</th>\n",
       "      <th>artist1</th>\n",
       "      <th>artist2</th>\n",
       "      <th>artist3</th>\n",
       "      <th>artist4</th>\n",
       "      <th>artist5</th>\n",
       "      <th>artist6</th>\n",
       "      <th>artist7</th>\n",
       "      <th>artist8</th>\n",
       "      <th>...</th>\n",
       "      <th>artist91</th>\n",
       "      <th>artist92</th>\n",
       "      <th>artist93</th>\n",
       "      <th>artist94</th>\n",
       "      <th>artist95</th>\n",
       "      <th>artist96</th>\n",
       "      <th>artist97</th>\n",
       "      <th>artist98</th>\n",
       "      <th>artist99</th>\n",
       "      <th>artist100</th>\n",
       "    </tr>\n",
       "  </thead>\n",
       "  <tbody>\n",
       "    <tr>\n",
       "      <th>0</th>\n",
       "      <td>1</td>\n",
       "      <td>1</td>\n",
       "      <td>0.0000</td>\n",
       "      <td>0.0891</td>\n",
       "      <td>0.0</td>\n",
       "      <td>0.0</td>\n",
       "      <td>0.0</td>\n",
       "      <td>0.0000</td>\n",
       "      <td>0.0</td>\n",
       "      <td>0.0</td>\n",
       "      <td>...</td>\n",
       "      <td>0.0000</td>\n",
       "      <td>0.0001</td>\n",
       "      <td>0.0606</td>\n",
       "      <td>0.0</td>\n",
       "      <td>0.0000</td>\n",
       "      <td>0.0578</td>\n",
       "      <td>0.1554</td>\n",
       "      <td>0.0001</td>\n",
       "      <td>0.0000</td>\n",
       "      <td>0.0000</td>\n",
       "    </tr>\n",
       "    <tr>\n",
       "      <th>1</th>\n",
       "      <td>2</td>\n",
       "      <td>0</td>\n",
       "      <td>0.0000</td>\n",
       "      <td>0.0000</td>\n",
       "      <td>0.0</td>\n",
       "      <td>0.0</td>\n",
       "      <td>0.0</td>\n",
       "      <td>0.0001</td>\n",
       "      <td>0.0</td>\n",
       "      <td>0.0</td>\n",
       "      <td>...</td>\n",
       "      <td>0.0008</td>\n",
       "      <td>0.0000</td>\n",
       "      <td>0.0016</td>\n",
       "      <td>0.0</td>\n",
       "      <td>0.0000</td>\n",
       "      <td>0.0000</td>\n",
       "      <td>0.0030</td>\n",
       "      <td>0.0034</td>\n",
       "      <td>0.8695</td>\n",
       "      <td>0.0037</td>\n",
       "    </tr>\n",
       "    <tr>\n",
       "      <th>2</th>\n",
       "      <td>3</td>\n",
       "      <td>1</td>\n",
       "      <td>0.0002</td>\n",
       "      <td>0.0000</td>\n",
       "      <td>0.0</td>\n",
       "      <td>0.0</td>\n",
       "      <td>0.0</td>\n",
       "      <td>0.0000</td>\n",
       "      <td>0.0</td>\n",
       "      <td>0.0</td>\n",
       "      <td>...</td>\n",
       "      <td>0.0000</td>\n",
       "      <td>0.0000</td>\n",
       "      <td>0.0000</td>\n",
       "      <td>0.0</td>\n",
       "      <td>0.0000</td>\n",
       "      <td>0.0000</td>\n",
       "      <td>0.0000</td>\n",
       "      <td>0.7179</td>\n",
       "      <td>0.0000</td>\n",
       "      <td>0.0008</td>\n",
       "    </tr>\n",
       "    <tr>\n",
       "      <th>3</th>\n",
       "      <td>4</td>\n",
       "      <td>1</td>\n",
       "      <td>0.0000</td>\n",
       "      <td>0.0000</td>\n",
       "      <td>0.0</td>\n",
       "      <td>0.0</td>\n",
       "      <td>0.0</td>\n",
       "      <td>0.0000</td>\n",
       "      <td>0.0</td>\n",
       "      <td>0.0</td>\n",
       "      <td>...</td>\n",
       "      <td>0.0146</td>\n",
       "      <td>0.0275</td>\n",
       "      <td>0.0060</td>\n",
       "      <td>0.0</td>\n",
       "      <td>0.1724</td>\n",
       "      <td>0.0000</td>\n",
       "      <td>0.0021</td>\n",
       "      <td>0.0012</td>\n",
       "      <td>0.0000</td>\n",
       "      <td>0.0000</td>\n",
       "    </tr>\n",
       "    <tr>\n",
       "      <th>4</th>\n",
       "      <td>5</td>\n",
       "      <td>1</td>\n",
       "      <td>0.0006</td>\n",
       "      <td>0.0000</td>\n",
       "      <td>0.0</td>\n",
       "      <td>0.0</td>\n",
       "      <td>0.0</td>\n",
       "      <td>0.0002</td>\n",
       "      <td>0.0</td>\n",
       "      <td>0.0</td>\n",
       "      <td>...</td>\n",
       "      <td>0.0310</td>\n",
       "      <td>0.1061</td>\n",
       "      <td>0.0000</td>\n",
       "      <td>0.0</td>\n",
       "      <td>0.0010</td>\n",
       "      <td>0.0000</td>\n",
       "      <td>0.6773</td>\n",
       "      <td>0.0000</td>\n",
       "      <td>0.0000</td>\n",
       "      <td>0.0000</td>\n",
       "    </tr>\n",
       "  </tbody>\n",
       "</table>\n",
       "<p>5 rows × 102 columns</p>\n",
       "</div>"
      ],
      "text/plain": [
       "   user_id  purchased_album  artist1  artist2  artist3  artist4  artist5  \\\n",
       "0        1                1   0.0000   0.0891      0.0      0.0      0.0   \n",
       "1        2                0   0.0000   0.0000      0.0      0.0      0.0   \n",
       "2        3                1   0.0002   0.0000      0.0      0.0      0.0   \n",
       "3        4                1   0.0000   0.0000      0.0      0.0      0.0   \n",
       "4        5                1   0.0006   0.0000      0.0      0.0      0.0   \n",
       "\n",
       "   artist6  artist7  artist8  ...  artist91  artist92  artist93  artist94  \\\n",
       "0   0.0000      0.0      0.0  ...    0.0000    0.0001    0.0606       0.0   \n",
       "1   0.0001      0.0      0.0  ...    0.0008    0.0000    0.0016       0.0   \n",
       "2   0.0000      0.0      0.0  ...    0.0000    0.0000    0.0000       0.0   \n",
       "3   0.0000      0.0      0.0  ...    0.0146    0.0275    0.0060       0.0   \n",
       "4   0.0002      0.0      0.0  ...    0.0310    0.1061    0.0000       0.0   \n",
       "\n",
       "   artist95  artist96  artist97  artist98  artist99  artist100  \n",
       "0    0.0000    0.0578    0.1554    0.0001    0.0000     0.0000  \n",
       "1    0.0000    0.0000    0.0030    0.0034    0.8695     0.0037  \n",
       "2    0.0000    0.0000    0.0000    0.7179    0.0000     0.0008  \n",
       "3    0.1724    0.0000    0.0021    0.0012    0.0000     0.0000  \n",
       "4    0.0010    0.0000    0.6773    0.0000    0.0000     0.0000  \n",
       "\n",
       "[5 rows x 102 columns]"
      ]
     },
     "execution_count": 2,
     "metadata": {},
     "output_type": "execute_result"
    }
   ],
   "source": [
    "### importing data\n",
    "\n",
    "data_for_pca = pd.read_csv(r\"C:\\Users\\12176\\Desktop\\lab\\Data science\\5. Machine_learning\\2. Datasets/sample_data_pca.csv\")\n",
    "data_for_pca.head()"
   ]
  },
  {
   "cell_type": "code",
   "execution_count": 3,
   "metadata": {},
   "outputs": [
    {
     "name": "stdout",
     "output_type": "stream",
     "text": [
      "<class 'pandas.core.frame.DataFrame'>\n",
      "RangeIndex: 356 entries, 0 to 355\n",
      "Columns: 102 entries, user_id to artist100\n",
      "dtypes: float64(100), int64(2)\n",
      "memory usage: 283.8 KB\n"
     ]
    }
   ],
   "source": [
    "data_for_pca.info()"
   ]
  },
  {
   "cell_type": "code",
   "execution_count": 4,
   "metadata": {},
   "outputs": [],
   "source": [
    "### dropping unneccessary columns\n",
    "\n",
    "data_for_pca.drop([\"user_id\"], axis =1, inplace=True)"
   ]
  },
  {
   "cell_type": "code",
   "execution_count": 5,
   "metadata": {},
   "outputs": [],
   "source": [
    "## Shuffle the data\n",
    "\n",
    "data_for_pca = shuffle(data_for_pca, random_state=42)"
   ]
  },
  {
   "cell_type": "code",
   "execution_count": 6,
   "metadata": {},
   "outputs": [
    {
     "data": {
      "text/plain": [
       "1    0.533708\n",
       "0    0.466292\n",
       "Name: purchased_album, dtype: float64"
      ]
     },
     "execution_count": 6,
     "metadata": {},
     "output_type": "execute_result"
    }
   ],
   "source": [
    "### Checking class balance\n",
    "\n",
    "data_for_pca[\"purchased_album\"].value_counts(normalize =True)"
   ]
  },
  {
   "cell_type": "code",
   "execution_count": 7,
   "metadata": {},
   "outputs": [
    {
     "data": {
      "text/plain": [
       "purchased_album    0\n",
       "artist1            0\n",
       "artist2            0\n",
       "artist3            0\n",
       "artist4            0\n",
       "                  ..\n",
       "artist96           0\n",
       "artist97           0\n",
       "artist98           0\n",
       "artist99           0\n",
       "artist100          0\n",
       "Length: 101, dtype: int64"
      ]
     },
     "execution_count": 7,
     "metadata": {},
     "output_type": "execute_result"
    }
   ],
   "source": [
    "### Dealing with missing values\n",
    "\n",
    "data_for_pca.isna().sum()"
   ]
  },
  {
   "cell_type": "code",
   "execution_count": 8,
   "metadata": {},
   "outputs": [
    {
     "data": {
      "text/plain": [
       "0"
      ]
     },
     "execution_count": 8,
     "metadata": {},
     "output_type": "execute_result"
    }
   ],
   "source": [
    "data_for_pca.isna().sum().sum()"
   ]
  },
  {
   "cell_type": "markdown",
   "metadata": {},
   "source": [
    "# Splitting the dataset into input and output variables & feature scaling"
   ]
  },
  {
   "cell_type": "code",
   "execution_count": 9,
   "metadata": {},
   "outputs": [],
   "source": [
    "X = data_for_pca.drop([\"purchased_album\"], axis=1)\n",
    "y = data_for_pca[\"purchased_album\"]"
   ]
  },
  {
   "cell_type": "code",
   "execution_count": 10,
   "metadata": {},
   "outputs": [],
   "source": [
    "## Split the data into train and test data\n",
    "\n",
    "X_train, X_test, y_train, y_test = train_test_split(X,y, test_size=0.2, random_state=42, stratify =y)"
   ]
  },
  {
   "cell_type": "code",
   "execution_count": 11,
   "metadata": {},
   "outputs": [],
   "source": [
    "### Feature Scaling\n",
    "\n",
    "scale_std = StandardScaler()\n",
    "X_train = scale_std.fit_transform(X_train)\n",
    "X_test = scale_std.transform(X_test)"
   ]
  },
  {
   "cell_type": "markdown",
   "metadata": {},
   "source": [
    "# Applying PCA (using all components)"
   ]
  },
  {
   "cell_type": "code",
   "execution_count": 12,
   "metadata": {},
   "outputs": [
    {
     "data": {
      "text/plain": [
       "PCA(random_state=42)"
      ]
     },
     "execution_count": 12,
     "metadata": {},
     "output_type": "execute_result"
    }
   ],
   "source": [
    "## instantiate & fit the model (for selecting the components)\n",
    "\n",
    "pca = PCA(n_components = None, random_state =42)\n",
    "pca.fit(X_train)"
   ]
  },
  {
   "cell_type": "code",
   "execution_count": 13,
   "metadata": {},
   "outputs": [],
   "source": [
    "## extract variance and cummulative variance explianed by principal components\n",
    "\n",
    "explained_variance = pca.explained_variance_ratio_\n",
    "cummulative_variance = pca.explained_variance_ratio_.cumsum()"
   ]
  },
  {
   "cell_type": "code",
   "execution_count": 14,
   "metadata": {},
   "outputs": [
    {
     "data": {
      "image/png": "[encoded data removed]",
      "text/plain": [
       "<Figure size 1080x720 with 2 Axes>"
      ]
     },
     "metadata": {
      "needs_background": "light"
     },
     "output_type": "display_data"
    }
   ],
   "source": [
    "# Plotting the variance and cummulative variance explianed by components\n",
    "\n",
    "num_vars = list(range(1,101))  # creating the list for number of components\n",
    "plt.figure(figsize =(15,10))\n",
    "\n",
    "### plotting the variance explained\n",
    "plt.subplot(2,1,1)\n",
    "plt.bar(num_vars, explained_variance )\n",
    "plt.title(\"Variance explained by Prinicpal components\")\n",
    "plt.xlabel(\"Number of components\")\n",
    "plt.ylabel(\"% Variance\")\n",
    "plt.tight_layout()\n",
    "\n",
    "### plotting the cummulative variance\n",
    "plt.subplot(2,1,2)\n",
    "plt.plot(num_vars,cummulative_variance )\n",
    "plt.title(\"Cummulative Variance explained across Principal components\")\n",
    "plt.xlabel(\"Number of components\")\n",
    "plt.ylabel(\"% Cummulative Variance\")\n",
    "plt.tight_layout()\n",
    "plt.show()"
   ]
  },
  {
   "cell_type": "markdown",
   "metadata": {},
   "source": [
    "# Applying PCA with selected number of components"
   ]
  },
  {
   "cell_type": "code",
   "execution_count": 15,
   "metadata": {},
   "outputs": [],
   "source": [
    "## instantiate & fit the model \n",
    "\n",
    "pca = PCA(n_components = 0.75, random_state =42)\n",
    "X_train = pca.fit_transform(X_train)\n",
    "X_test =pca.transform(X_test)"
   ]
  },
  {
   "cell_type": "code",
   "execution_count": 16,
   "metadata": {},
   "outputs": [
    {
     "data": {
      "text/plain": [
       "24"
      ]
     },
     "execution_count": 16,
     "metadata": {},
     "output_type": "execute_result"
    }
   ],
   "source": [
    "pca.n_components_"
   ]
  },
  {
   "cell_type": "code",
   "execution_count": 18,
   "metadata": {},
   "outputs": [],
   "source": [
    "## Pickling the PCA model\n",
    "pickle.dump(pca, open('PCA.pkl', 'wb'))"
   ]
  },
  {
   "cell_type": "markdown",
   "metadata": {},
   "source": [
    "# CLASSIFICATION MODEL (RANDOM FOREST) WITH SELECTED PRINCIPAL COMPONENTS"
   ]
  },
  {
   "cell_type": "markdown",
   "metadata": {},
   "source": [
    "# Grid search for selecting optimum depth and n_estimators"
   ]
  },
  {
   "cell_type": "code",
   "execution_count": 20,
   "metadata": {},
   "outputs": [],
   "source": [
    "### Instantiate the Gridsearch\n",
    "\n",
    "from sklearn.model_selection import GridSearchCV\n",
    "gscv = GridSearchCV(\n",
    "    estimator = RandomForestClassifier(random_state =42),\n",
    "    param_grid= {\"n_estimators\": [10,50,100,500],\n",
    "                \"max_depth\":[1,2,3,4,5,6,7,8,9,10,None]},\n",
    "    cv = 5,\n",
    "    scoring =\"accuracy\",\n",
    "    n_jobs =-1\n",
    ")"
   ]
  },
  {
   "cell_type": "code",
   "execution_count": 21,
   "metadata": {},
   "outputs": [
    {
     "data": {
      "text/plain": [
       "0.8697994987468671"
      ]
     },
     "execution_count": 21,
     "metadata": {},
     "output_type": "execute_result"
    }
   ],
   "source": [
    "## fitting the grid search \n",
    "\n",
    "gscv.fit(X_train,y_train)  \n",
    "\n",
    "## get the best cv score (mean)\n",
    "gscv.best_score_"
   ]
  },
  {
   "cell_type": "code",
   "execution_count": 22,
   "metadata": {},
   "outputs": [
    {
     "data": {
      "text/plain": [
       "{'max_depth': 9, 'n_estimators': 500}"
      ]
     },
     "execution_count": 22,
     "metadata": {},
     "output_type": "execute_result"
    }
   ],
   "source": [
    "### optimal_parameters\n",
    "\n",
    "gscv.best_params_"
   ]
  },
  {
   "cell_type": "markdown",
   "metadata": {},
   "source": [
    "# Model Training"
   ]
  },
  {
   "cell_type": "code",
   "execution_count": 23,
   "metadata": {},
   "outputs": [
    {
     "data": {
      "text/plain": [
       "RandomForestClassifier(max_depth=9, n_estimators=500, random_state=42)"
      ]
     },
     "execution_count": 23,
     "metadata": {},
     "output_type": "execute_result"
    }
   ],
   "source": [
    "### create optimal best model object\n",
    "\n",
    "clf = gscv.best_estimator_\n",
    "clf"
   ]
  },
  {
   "cell_type": "code",
   "execution_count": 24,
   "metadata": {},
   "outputs": [],
   "source": [
    "clf.fit(X_train, y_train)\n",
    "y_pred_class = clf.predict(X_test)\n",
    "y_pred_prob = clf.predict_proba(X_test)[:,1]"
   ]
  },
  {
   "cell_type": "markdown",
   "metadata": {},
   "source": [
    "# Plotting the Confusion Matrix"
   ]
  },
  {
   "cell_type": "code",
   "execution_count": 25,
   "metadata": {},
   "outputs": [
    {
     "data": {
      "image/png": "[encoded data removed]",
      "text/plain": [
       "<Figure size 633.6x633.6 with 1 Axes>"
      ]
     },
     "metadata": {
      "needs_background": "light"
     },
     "output_type": "display_data"
    }
   ],
   "source": [
    "## confusion_matrix\n",
    "\n",
    "conf_matrix = confusion_matrix(y_test, y_pred_class)\n",
    "conf_matrix\n",
    "\n",
    "plt.style.use(\"seaborn-poster\")\n",
    "plt.matshow(conf_matrix, cmap= \"coolwarm\")\n",
    "plt.gca().xaxis.tick_bottom()\n",
    "plt.title(\"Confusion_matrix\")\n",
    "plt.ylabel(\"Actual_class\")\n",
    "plt.xlabel(\"Predicted_class\")\n",
    "for (i,j), corr_value in np.ndenumerate(conf_matrix):\n",
    "    plt.text(j,i,corr_value, ha =\"center\", va =\"center\", fontsize =20)\n",
    "plt.show()  "
   ]
  },
  {
   "cell_type": "markdown",
   "metadata": {},
   "source": [
    "# Assesing the Accuracy, Precision, Recall and F1_scores"
   ]
  },
  {
   "cell_type": "code",
   "execution_count": 26,
   "metadata": {},
   "outputs": [
    {
     "data": {
      "text/plain": [
       "0.9305555555555556"
      ]
     },
     "execution_count": 26,
     "metadata": {},
     "output_type": "execute_result"
    }
   ],
   "source": [
    "### Accuracy (the number of correct classification out of all attempted classification)\n",
    "\n",
    "accuracy_score(y_test, y_pred_class)"
   ]
  },
  {
   "cell_type": "code",
   "execution_count": 27,
   "metadata": {},
   "outputs": [
    {
     "data": {
      "text/plain": [
       "0.9024390243902439"
      ]
     },
     "execution_count": 27,
     "metadata": {},
     "output_type": "execute_result"
    }
   ],
   "source": [
    "## Precision (of all observations that were predicted negative, how many were actually positive)\n",
    "\n",
    "precision_score(y_test, y_pred_class)"
   ]
  },
  {
   "cell_type": "code",
   "execution_count": 28,
   "metadata": {},
   "outputs": [
    {
     "data": {
      "text/plain": [
       "0.9736842105263158"
      ]
     },
     "execution_count": 28,
     "metadata": {},
     "output_type": "execute_result"
    }
   ],
   "source": [
    "## Recall (of all positive obs., how many did we predict positive )\n",
    "\n",
    "recall_score(y_test, y_pred_class)"
   ]
  },
  {
   "cell_type": "code",
   "execution_count": 29,
   "metadata": {},
   "outputs": [
    {
     "data": {
      "text/plain": [
       "0.9367088607594938"
      ]
     },
     "execution_count": 29,
     "metadata": {},
     "output_type": "execute_result"
    }
   ],
   "source": [
    "## F1_score(the harmonic mean of precision and recall)\n",
    "\n",
    "f1_score(y_test, y_pred_class)"
   ]
  },
  {
   "cell_type": "code",
   "execution_count": 30,
   "metadata": {},
   "outputs": [],
   "source": [
    "## Pickling the model\n",
    "pickle.dump(clf, open('clf.pkl', 'wb'))"
   ]
  },
  {
   "cell_type": "code",
   "execution_count": null,
   "metadata": {},
   "outputs": [],
   "source": []
  }
 ],
 "metadata": {
  "kernelspec": {
   "display_name": "Python 3",
   "language": "python",
   "name": "python3"
  },
  "language_info": {
   "codemirror_mode": {
    "name": "ipython",
    "version": 3
   },
   "file_extension": ".py",
   "mimetype": "text/x-python",
   "name": "python",
   "nbconvert_exporter": "python",
   "pygments_lexer": "ipython3",
   "version": "3.7.9"
  }
 },
 "nbformat": 4,
 "nbformat_minor": 4
}
